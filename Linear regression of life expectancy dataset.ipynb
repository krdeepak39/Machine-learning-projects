{
 "cells": [
  {
   "cell_type": "code",
   "execution_count": 1,
   "id": "5465eb91",
   "metadata": {},
   "outputs": [],
   "source": [
    "import numpy as np\n",
    "import matplotlib.pyplot as plt\n",
    "import pandas as pd"
   ]
  },
  {
   "cell_type": "code",
   "execution_count": 2,
   "id": "7f66002a",
   "metadata": {},
   "outputs": [],
   "source": [
    "data = pd.read_csv(\"C:/Users/user/Documents/data science/practice/WHO dataset/Life Expectancy Data.csv\")\n",
    "df =pd.DataFrame(data)"
   ]
  },
  {
   "cell_type": "code",
   "execution_count": 3,
   "id": "71df514e",
   "metadata": {},
   "outputs": [],
   "source": [
    "df.head(5)"
   ]
  },
  {
   "cell_type": "code",
   "execution_count": 4,
   "id": "1b4ce305",
   "metadata": {},
   "outputs": [],
   "source": [
    "df.isnull().sum()"
   ]
  },
  {
   "cell_type": "code",
   "execution_count": 5,
   "id": "abd4026f",
   "metadata": {},
   "outputs": [],
   "source": [
    "status_dict = {'Developing': 0,'Developed': 1}\n",
    "\n",
    "df.Status = [status_dict[item] for item in df.Status]\n",
    "df['Status'].value_counts()"
   ]
  },
  {
   "cell_type": "code",
   "execution_count": 6,
   "id": "e0f7e86a",
   "metadata": {},
   "outputs": [],
   "source": [
    "df[\"Life expectancy \"] = df[\"Life expectancy \"].replace(np.NaN, df[\"Life expectancy \"].mean())\n",
    "df[\"infant deaths\"] = df[\"infant deaths\"].replace(np.NaN, df[\"infant deaths\"].median())\n",
    "df[\"Adult Mortality\"] = df[\"Adult Mortality\"].replace(np.NaN, df[\"Adult Mortality\"].median())\n",
    "df[\"Alcohol\"] = df[\"Alcohol\"].replace(np.NaN, df[\"Alcohol\"].median())\n",
    "df[\"Hepatitis B\"] = df[\"Hepatitis B\"].replace(np.NaN, df[\"Hepatitis B\"].median())\n",
    "df[\" BMI \"] = df[\" BMI \"].replace(np.NaN, df[\" BMI \"].mean())\n",
    "df[\"Polio\"] = df[\"Polio\"].replace(np.NaN, df[\"Polio\"].mean())\n",
    "df[\"Total expenditure\"] = df[\"Total expenditure\"].replace(np.NaN, df[\"Total expenditure\"].mean())\n",
    "df[\"Diphtheria \"] = df[\"Diphtheria \"].replace(np.NaN, df[\"Diphtheria \"].mean())\n",
    "df[\"GDP\"] = df[\"GDP\"].replace(np.NaN, df[\"GDP\"].median())\n",
    "df[\" thinness  1-19 years\"] = df[\" thinness  1-19 years\"].replace(np.NaN, df[\" thinness  1-19 years\"].median())\n",
    "df[\" thinness 5-9 years\"] = df[\" thinness 5-9 years\"].replace(np.NaN, df[\" thinness 5-9 years\"].median())\n",
    "df[\"Income composition of resources\"] = df[\"Income composition of resources\"].replace(np.NaN, df[\"Income composition of resources\"].median())\n",
    "df[\"Schooling\"] = df[\"Schooling\"].replace(np.NaN, df[\"Schooling\"].median())\n",
    "df[\"Population\"] = df[\"Population\"].replace(np.NaN, df[\"Population\"].mean())"
   ]
  },
  {
   "cell_type": "code",
   "execution_count": 7,
   "id": "3abb6a05",
   "metadata": {},
   "outputs": [],
   "source": [
    "df.drop(['Country'],axis=1,inplace=True)"
   ]
  },
  {
   "cell_type": "code",
   "execution_count": 8,
   "id": "af141c09",
   "metadata": {},
   "outputs": [],
   "source": [
    "df.isnull().sum()"
   ]
  },
  {
   "cell_type": "code",
   "execution_count": 9,
   "id": "b20d605a",
   "metadata": {},
   "outputs": [],
   "source": [
    "X = df.drop(['Life expectancy '],axis=1)\n",
    "y = df['Life expectancy ']"
   ]
  },
  {
   "cell_type": "code",
   "execution_count": 10,
   "id": "e569415b",
   "metadata": {},
   "outputs": [],
   "source": [
    "X.shape"
   ]
  },
  {
   "cell_type": "code",
   "execution_count": 11,
   "id": "9dcb29d0",
   "metadata": {},
   "outputs": [],
   "source": [
    "df.shape"
   ]
  },
  {
   "cell_type": "code",
   "execution_count": 12,
   "id": "49136649",
   "metadata": {},
   "outputs": [],
   "source": [
    "\n",
    "X_train = X[:-588]\n",
    "Y_train = y[:-588]\n",
    "X_test = X[-588:]\n",
    "Y_test = y[-588:]"
   ]
  },
  {
   "cell_type": "code",
   "execution_count": 13,
   "id": "07024f89",
   "metadata": {},
   "outputs": [],
   "source": [
    "u= np.mean(X, axis= 0)\n",
    "std = np.std(X, axis =0)"
   ]
  },
  {
   "cell_type": "code",
   "execution_count": 14,
   "id": "fbda69af",
   "metadata": {},
   "outputs": [],
   "source": [
    "X_train= (X_train-u)/std\n",
    "X_test = (X_test-u)/std"
   ]
  },
  {
   "cell_type": "code",
   "execution_count": 15,
   "id": "1afb69e8",
   "metadata": {},
   "outputs": [],
   "source": [
    "X_train = X_train.values\n",
    "X_test = X_test.values"
   ]
  },
  {
   "cell_type": "code",
   "execution_count": 16,
   "id": "cd1ef131",
   "metadata": {},
   "outputs": [],
   "source": [
    "X_train.shape, X_test.shape"
   ]
  },
  {
   "cell_type": "code",
   "execution_count": 17,
   "id": "d2a1118b",
   "metadata": {},
   "outputs": [],
   "source": [
    "ones = np.ones((X_train.shape[0], 1))"
   ]
  },
  {
   "cell_type": "code",
   "execution_count": 18,
   "id": "8f7bdb0a",
   "metadata": {},
   "outputs": [],
   "source": [
    "ones.shape"
   ]
  },
  {
   "cell_type": "code",
   "execution_count": 19,
   "id": "c92afe1f",
   "metadata": {},
   "outputs": [],
   "source": [
    "X_train = np.hstack((ones,X_train))"
   ]
  },
  {
   "cell_type": "code",
   "execution_count": 20,
   "id": "4dbb0037",
   "metadata": {},
   "outputs": [],
   "source": [
    "X_train"
   ]
  },
  {
   "cell_type": "code",
   "execution_count": 21,
   "id": "de3be040",
   "metadata": {},
   "outputs": [],
   "source": [
    "def hypothesis(X,theta):\n",
    "    y=0\n",
    "    for i in range (X.shape[0]):  \n",
    "        y += theta[i]*X[i]\n",
    "    return y"
   ]
  },
  {
   "cell_type": "code",
   "execution_count": 22,
   "id": "512b9cb6",
   "metadata": {},
   "outputs": [],
   "source": [
    "def cost(X,Y, theta):\n",
    "    error = 0\n",
    "    for i in range(X.shape[0]):\n",
    "        y_p = hypothesis(X[i], theta)\n",
    "        \n",
    "        error += (y_p - Y[i])**2\n",
    "        \n",
    "    return error/X.shape[0]"
   ]
  },
  {
   "cell_type": "code",
   "execution_count": 23,
   "id": "03bbd2c2",
   "metadata": {},
   "outputs": [],
   "source": [
    "def gradient(X, Y, theta):           \n",
    "    grad = np.zeros((X.shape[1], ))\n",
    "    \n",
    "    for j in range(X.shape[1]): \n",
    "    \n",
    "        for i in range(X.shape[0]):   \n",
    "        \n",
    "            y_p = hypothesis(X[i], theta)\n",
    "        \n",
    "            \n",
    "            grad[j] += (y_p - Y[i])*X[i,j]\n",
    "        \n",
    "    return grad/X.shape[0]"
   ]
  },
  {
   "cell_type": "code",
   "execution_count": 24,
   "id": "3488e91b",
   "metadata": {},
   "outputs": [],
   "source": [
    "def gradient_descent(X,Y):\n",
    "    theta = np.zeros((X.shape[1],))\n",
    "    \n",
    "    max_epochs = 1000\n",
    "    epoch_loss= []\n",
    "    lr= 0.03  \n",
    "   \n",
    "    \n",
    "    for i in range(max_epochs):\n",
    "        grad= gradient(X,Y,theta)\n",
    "        \n",
    "        loss = cost(X,Y,theta)\n",
    "        epoch_loss.append(loss)\n",
    "        \n",
    "        \n",
    "        \n",
    "        for j in range (X.shape[1]):\n",
    "            theta[j] = theta[j]- lr*grad[j]\n",
    "    \n",
    "    return theta, epoch_loss\n"
   ]
  },
  {
   "cell_type": "code",
   "execution_count": null,
   "id": "5a4e75b2",
   "metadata": {},
   "outputs": [],
   "source": [
    "theta,cost_list= gradient_descent(X_train,Y_train)"
   ]
  },
  {
   "cell_type": "code",
   "execution_count": null,
   "id": "caa1c062",
   "metadata": {},
   "outputs": [],
   "source": [
    "cost_list"
   ]
  },
  {
   "cell_type": "code",
   "execution_count": null,
   "id": "79ef062c",
   "metadata": {},
   "outputs": [],
   "source": [
    "plt.plot(cost_list)"
   ]
  },
  {
   "cell_type": "code",
   "execution_count": null,
   "id": "07a28b7a",
   "metadata": {},
   "outputs": [],
   "source": [
    "theta"
   ]
  },
  {
   "cell_type": "code",
   "execution_count": null,
   "id": "9024f5b7",
   "metadata": {},
   "outputs": [],
   "source": [
    "ones = np.ones((X_test.shape[0], 1))"
   ]
  },
  {
   "cell_type": "code",
   "execution_count": null,
   "id": "3b239458",
   "metadata": {},
   "outputs": [],
   "source": [
    "X_test = np.hstack((ones,X_test))"
   ]
  },
  {
   "cell_type": "code",
   "execution_count": null,
   "id": "8f4c296c",
   "metadata": {},
   "outputs": [],
   "source": [
    "def r2_score(y_t, y_p):\n",
    "    \n",
    "    num = np.sum((y_t - y_p)**2)\n",
    "    den = np.sum((y_t - y_p.mean())**2)\n",
    "    \n",
    "    return (1-num/den)"
   ]
  },
  {
   "cell_type": "code",
   "execution_count": null,
   "id": "96176e92",
   "metadata": {},
   "outputs": [],
   "source": [
    "y_p = []\n",
    "for i in X_test:\n",
    "    pred = hypothesis(i, theta)   \n",
    "    y_p.append(pred)"
   ]
  },
  {
   "cell_type": "code",
   "execution_count": null,
   "id": "69683cb5",
   "metadata": {},
   "outputs": [],
   "source": [
    "print(r2_score(Y_test, np.array(y_p)))"
   ]
  },
  {
   "cell_type": "code",
   "execution_count": null,
   "id": "052107d9",
   "metadata": {},
   "outputs": [],
   "source": [
    "from sklearn import metrics"
   ]
  },
  {
   "cell_type": "code",
   "execution_count": null,
   "id": "f32196e4",
   "metadata": {},
   "outputs": [],
   "source": [
    "print (f'MAE:{metrics.mean_absolute_error(y_pred=y_p, y_true=Y_test)}')\n",
    "print (f'MsE:{metrics.mean_squared_error(y_pred=y_p, y_true=Y_test)}')\n",
    "print (f'RMSE:{(metrics.mean_squared_error(y_pred=y_p, y_true=Y_test)**0.5)}')"
   ]
  },
  {
   "cell_type": "code",
   "execution_count": null,
   "id": "43a666f1",
   "metadata": {},
   "outputs": [],
   "source": []
  }
 ],
 "metadata": {
  "kernelspec": {
   "display_name": "Python 3 (ipykernel)",
   "language": "python",
   "name": "python3"
  },
  "language_info": {
   "codemirror_mode": {
    "name": "ipython",
    "version": 3
   },
   "file_extension": ".py",
   "mimetype": "text/x-python",
   "name": "python",
   "nbconvert_exporter": "python",
   "pygments_lexer": "ipython3",
   "version": "3.11.6"
  }
 },
 "nbformat": 4,
 "nbformat_minor": 5
}
