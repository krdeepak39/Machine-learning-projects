{
 "cells": [
  {
   "cell_type": "code",
   "execution_count": 1,
   "id": "9146b9fd",
   "metadata": {},
   "outputs": [],
   "source": [
    "import numpy as np\n",
    "import matplotlib.pyplot as plt\n",
    "import pandas as pd"
   ]
  },
  {
   "cell_type": "code",
   "execution_count": 2,
   "id": "41de7b6a",
   "metadata": {},
   "outputs": [],
   "source": [
    "data = pd.read_csv('C:/Users/user/Documents/data science/practice/prices_split_adjusted.csv')\n",
    "df = pd.DataFrame(data)"
   ]
  },
  {
   "cell_type": "code",
   "execution_count": 3,
   "id": "923af307",
   "metadata": {},
   "outputs": [
    {
     "data": {
      "text/html": [
       "<div>\n",
       "<style scoped>\n",
       "    .dataframe tbody tr th:only-of-type {\n",
       "        vertical-align: middle;\n",
       "    }\n",
       "\n",
       "    .dataframe tbody tr th {\n",
       "        vertical-align: top;\n",
       "    }\n",
       "\n",
       "    .dataframe thead th {\n",
       "        text-align: right;\n",
       "    }\n",
       "</style>\n",
       "<table border=\"1\" class=\"dataframe\">\n",
       "  <thead>\n",
       "    <tr style=\"text-align: right;\">\n",
       "      <th></th>\n",
       "      <th>date</th>\n",
       "      <th>symbol</th>\n",
       "      <th>open</th>\n",
       "      <th>close</th>\n",
       "      <th>low</th>\n",
       "      <th>high</th>\n",
       "      <th>volume</th>\n",
       "    </tr>\n",
       "  </thead>\n",
       "  <tbody>\n",
       "    <tr>\n",
       "      <th>0</th>\n",
       "      <td>1/5/2016</td>\n",
       "      <td>WLTW</td>\n",
       "      <td>123.430000</td>\n",
       "      <td>125.839996</td>\n",
       "      <td>122.309998</td>\n",
       "      <td>126.250000</td>\n",
       "      <td>2163600</td>\n",
       "    </tr>\n",
       "    <tr>\n",
       "      <th>1</th>\n",
       "      <td>1/6/2016</td>\n",
       "      <td>WLTW</td>\n",
       "      <td>125.239998</td>\n",
       "      <td>119.980003</td>\n",
       "      <td>119.940002</td>\n",
       "      <td>125.540001</td>\n",
       "      <td>2386400</td>\n",
       "    </tr>\n",
       "    <tr>\n",
       "      <th>2</th>\n",
       "      <td>1/7/2016</td>\n",
       "      <td>WLTW</td>\n",
       "      <td>116.379997</td>\n",
       "      <td>114.949997</td>\n",
       "      <td>114.930000</td>\n",
       "      <td>119.739998</td>\n",
       "      <td>2489500</td>\n",
       "    </tr>\n",
       "    <tr>\n",
       "      <th>3</th>\n",
       "      <td>1/8/2016</td>\n",
       "      <td>WLTW</td>\n",
       "      <td>115.480003</td>\n",
       "      <td>116.620003</td>\n",
       "      <td>113.500000</td>\n",
       "      <td>117.440002</td>\n",
       "      <td>2006300</td>\n",
       "    </tr>\n",
       "    <tr>\n",
       "      <th>4</th>\n",
       "      <td>1/11/2016</td>\n",
       "      <td>WLTW</td>\n",
       "      <td>117.010002</td>\n",
       "      <td>114.970001</td>\n",
       "      <td>114.089996</td>\n",
       "      <td>117.330002</td>\n",
       "      <td>1408600</td>\n",
       "    </tr>\n",
       "  </tbody>\n",
       "</table>\n",
       "</div>"
      ],
      "text/plain": [
       "        date symbol        open       close         low        high   volume\n",
       "0   1/5/2016   WLTW  123.430000  125.839996  122.309998  126.250000  2163600\n",
       "1   1/6/2016   WLTW  125.239998  119.980003  119.940002  125.540001  2386400\n",
       "2   1/7/2016   WLTW  116.379997  114.949997  114.930000  119.739998  2489500\n",
       "3   1/8/2016   WLTW  115.480003  116.620003  113.500000  117.440002  2006300\n",
       "4  1/11/2016   WLTW  117.010002  114.970001  114.089996  117.330002  1408600"
      ]
     },
     "execution_count": 3,
     "metadata": {},
     "output_type": "execute_result"
    }
   ],
   "source": [
    "df.head(5)"
   ]
  },
  {
   "cell_type": "code",
   "execution_count": 4,
   "id": "fd476eeb",
   "metadata": {},
   "outputs": [
    {
     "data": {
      "text/html": [
       "<div>\n",
       "<style scoped>\n",
       "    .dataframe tbody tr th:only-of-type {\n",
       "        vertical-align: middle;\n",
       "    }\n",
       "\n",
       "    .dataframe tbody tr th {\n",
       "        vertical-align: top;\n",
       "    }\n",
       "\n",
       "    .dataframe thead th {\n",
       "        text-align: right;\n",
       "    }\n",
       "</style>\n",
       "<table border=\"1\" class=\"dataframe\">\n",
       "  <thead>\n",
       "    <tr style=\"text-align: right;\">\n",
       "      <th></th>\n",
       "      <th>open</th>\n",
       "      <th>close</th>\n",
       "      <th>low</th>\n",
       "      <th>high</th>\n",
       "      <th>volume</th>\n",
       "    </tr>\n",
       "  </thead>\n",
       "  <tbody>\n",
       "    <tr>\n",
       "      <th>count</th>\n",
       "      <td>851264.000000</td>\n",
       "      <td>851264.000000</td>\n",
       "      <td>851264.000000</td>\n",
       "      <td>851264.000000</td>\n",
       "      <td>8.512640e+05</td>\n",
       "    </tr>\n",
       "    <tr>\n",
       "      <th>mean</th>\n",
       "      <td>64.993618</td>\n",
       "      <td>65.011913</td>\n",
       "      <td>64.336541</td>\n",
       "      <td>65.639748</td>\n",
       "      <td>5.415113e+06</td>\n",
       "    </tr>\n",
       "    <tr>\n",
       "      <th>std</th>\n",
       "      <td>75.203893</td>\n",
       "      <td>75.201216</td>\n",
       "      <td>74.459518</td>\n",
       "      <td>75.906861</td>\n",
       "      <td>1.249468e+07</td>\n",
       "    </tr>\n",
       "    <tr>\n",
       "      <th>min</th>\n",
       "      <td>1.660000</td>\n",
       "      <td>1.590000</td>\n",
       "      <td>1.500000</td>\n",
       "      <td>1.810000</td>\n",
       "      <td>0.000000e+00</td>\n",
       "    </tr>\n",
       "    <tr>\n",
       "      <th>25%</th>\n",
       "      <td>31.270000</td>\n",
       "      <td>31.292776</td>\n",
       "      <td>30.940001</td>\n",
       "      <td>31.620001</td>\n",
       "      <td>1.221500e+06</td>\n",
       "    </tr>\n",
       "    <tr>\n",
       "      <th>50%</th>\n",
       "      <td>48.459999</td>\n",
       "      <td>48.480000</td>\n",
       "      <td>47.970001</td>\n",
       "      <td>48.959999</td>\n",
       "      <td>2.476250e+06</td>\n",
       "    </tr>\n",
       "    <tr>\n",
       "      <th>75%</th>\n",
       "      <td>75.120003</td>\n",
       "      <td>75.139999</td>\n",
       "      <td>74.400002</td>\n",
       "      <td>75.849998</td>\n",
       "      <td>5.222500e+06</td>\n",
       "    </tr>\n",
       "    <tr>\n",
       "      <th>max</th>\n",
       "      <td>1584.439941</td>\n",
       "      <td>1578.130005</td>\n",
       "      <td>1549.939941</td>\n",
       "      <td>1600.930054</td>\n",
       "      <td>8.596434e+08</td>\n",
       "    </tr>\n",
       "  </tbody>\n",
       "</table>\n",
       "</div>"
      ],
      "text/plain": [
       "                open          close            low           high  \\\n",
       "count  851264.000000  851264.000000  851264.000000  851264.000000   \n",
       "mean       64.993618      65.011913      64.336541      65.639748   \n",
       "std        75.203893      75.201216      74.459518      75.906861   \n",
       "min         1.660000       1.590000       1.500000       1.810000   \n",
       "25%        31.270000      31.292776      30.940001      31.620001   \n",
       "50%        48.459999      48.480000      47.970001      48.959999   \n",
       "75%        75.120003      75.139999      74.400002      75.849998   \n",
       "max      1584.439941    1578.130005    1549.939941    1600.930054   \n",
       "\n",
       "             volume  \n",
       "count  8.512640e+05  \n",
       "mean   5.415113e+06  \n",
       "std    1.249468e+07  \n",
       "min    0.000000e+00  \n",
       "25%    1.221500e+06  \n",
       "50%    2.476250e+06  \n",
       "75%    5.222500e+06  \n",
       "max    8.596434e+08  "
      ]
     },
     "execution_count": 4,
     "metadata": {},
     "output_type": "execute_result"
    }
   ],
   "source": [
    "df.describe()"
   ]
  },
  {
   "cell_type": "code",
   "execution_count": 5,
   "id": "8c531bbe",
   "metadata": {},
   "outputs": [],
   "source": [
    "df.drop('date', axis=1, inplace=True)\n",
    "df.drop('symbol', axis=1, inplace=True)\n"
   ]
  },
  {
   "cell_type": "code",
   "execution_count": 6,
   "id": "d5ad3e5b",
   "metadata": {},
   "outputs": [],
   "source": [
    "u= df.mean()\n",
    "std = df.std()"
   ]
  },
  {
   "cell_type": "code",
   "execution_count": 7,
   "id": "73db7674",
   "metadata": {},
   "outputs": [],
   "source": [
    "df= (df-u)/std"
   ]
  },
  {
   "cell_type": "code",
   "execution_count": 8,
   "id": "1faa20c7",
   "metadata": {},
   "outputs": [],
   "source": [
    "X = df.drop('close', axis = 1 )\n",
    "Y=df['close']"
   ]
  },
  {
   "cell_type": "code",
   "execution_count": 9,
   "id": "5f0d013b",
   "metadata": {},
   "outputs": [
    {
     "data": {
      "text/html": [
       "<div>\n",
       "<style scoped>\n",
       "    .dataframe tbody tr th:only-of-type {\n",
       "        vertical-align: middle;\n",
       "    }\n",
       "\n",
       "    .dataframe tbody tr th {\n",
       "        vertical-align: top;\n",
       "    }\n",
       "\n",
       "    .dataframe thead th {\n",
       "        text-align: right;\n",
       "    }\n",
       "</style>\n",
       "<table border=\"1\" class=\"dataframe\">\n",
       "  <thead>\n",
       "    <tr style=\"text-align: right;\">\n",
       "      <th></th>\n",
       "      <th>open</th>\n",
       "      <th>low</th>\n",
       "      <th>high</th>\n",
       "      <th>volume</th>\n",
       "    </tr>\n",
       "  </thead>\n",
       "  <tbody>\n",
       "    <tr>\n",
       "      <th>0</th>\n",
       "      <td>0.777039</td>\n",
       "      <td>0.778590</td>\n",
       "      <td>0.798482</td>\n",
       "      <td>-0.260232</td>\n",
       "    </tr>\n",
       "    <tr>\n",
       "      <th>1</th>\n",
       "      <td>0.801107</td>\n",
       "      <td>0.746761</td>\n",
       "      <td>0.789128</td>\n",
       "      <td>-0.242400</td>\n",
       "    </tr>\n",
       "    <tr>\n",
       "      <th>2</th>\n",
       "      <td>0.683294</td>\n",
       "      <td>0.679476</td>\n",
       "      <td>0.712719</td>\n",
       "      <td>-0.234149</td>\n",
       "    </tr>\n",
       "    <tr>\n",
       "      <th>3</th>\n",
       "      <td>0.671327</td>\n",
       "      <td>0.660271</td>\n",
       "      <td>0.682419</td>\n",
       "      <td>-0.272821</td>\n",
       "    </tr>\n",
       "    <tr>\n",
       "      <th>4</th>\n",
       "      <td>0.691671</td>\n",
       "      <td>0.668195</td>\n",
       "      <td>0.680969</td>\n",
       "      <td>-0.320657</td>\n",
       "    </tr>\n",
       "  </tbody>\n",
       "</table>\n",
       "</div>"
      ],
      "text/plain": [
       "       open       low      high    volume\n",
       "0  0.777039  0.778590  0.798482 -0.260232\n",
       "1  0.801107  0.746761  0.789128 -0.242400\n",
       "2  0.683294  0.679476  0.712719 -0.234149\n",
       "3  0.671327  0.660271  0.682419 -0.272821\n",
       "4  0.691671  0.668195  0.680969 -0.320657"
      ]
     },
     "execution_count": 9,
     "metadata": {},
     "output_type": "execute_result"
    }
   ],
   "source": [
    "X.head()"
   ]
  },
  {
   "cell_type": "code",
   "execution_count": 10,
   "id": "5e0ef851",
   "metadata": {},
   "outputs": [
    {
     "data": {
      "text/plain": [
       "(851264, 5)"
      ]
     },
     "execution_count": 10,
     "metadata": {},
     "output_type": "execute_result"
    }
   ],
   "source": [
    "df.shape"
   ]
  },
  {
   "cell_type": "code",
   "execution_count": 11,
   "id": "ca098ed0",
   "metadata": {},
   "outputs": [],
   "source": [
    "X_train = X[:-200000]\n",
    "Y_train = Y[:-200000]\n",
    "X_test = X[-200000:]\n",
    "Y_test = Y[-200000:]"
   ]
  },
  {
   "cell_type": "code",
   "execution_count": 12,
   "id": "33ba5682",
   "metadata": {},
   "outputs": [],
   "source": [
    "#u= X_train.mean() \n",
    "#std = X_train.std()\n",
    "\n",
    "\n",
    "#X_train= (X_train-u)/std\n",
    "#X_test = (X_test-u)/std"
   ]
  },
  {
   "cell_type": "code",
   "execution_count": 13,
   "id": "87e55230",
   "metadata": {},
   "outputs": [],
   "source": [
    "#X_train= (X_train-u)/std"
   ]
  },
  {
   "cell_type": "code",
   "execution_count": 14,
   "id": "1a6e4e0a",
   "metadata": {},
   "outputs": [],
   "source": [
    "#X_train = X_train.values\n",
    "#X_test = X_test.values"
   ]
  },
  {
   "cell_type": "code",
   "execution_count": 15,
   "id": "5eec47c8",
   "metadata": {},
   "outputs": [],
   "source": [
    "#X_train.head()"
   ]
  },
  {
   "cell_type": "code",
   "execution_count": 16,
   "id": "3b15eb31",
   "metadata": {},
   "outputs": [
    {
     "data": {
      "text/plain": [
       "(651264, 4)"
      ]
     },
     "execution_count": 16,
     "metadata": {},
     "output_type": "execute_result"
    }
   ],
   "source": [
    "X_train.shape"
   ]
  },
  {
   "cell_type": "code",
   "execution_count": 17,
   "id": "be83620c",
   "metadata": {},
   "outputs": [
    {
     "data": {
      "text/plain": [
       "((651264, 4), (200000, 4))"
      ]
     },
     "execution_count": 17,
     "metadata": {},
     "output_type": "execute_result"
    }
   ],
   "source": [
    "X_train.shape, X_test.shape"
   ]
  },
  {
   "cell_type": "code",
   "execution_count": 18,
   "id": "5249d79e",
   "metadata": {},
   "outputs": [],
   "source": [
    "#plt.scatter(X_train[:, 2], Y_train)"
   ]
  },
  {
   "cell_type": "code",
   "execution_count": 19,
   "id": "b082bb3c",
   "metadata": {},
   "outputs": [],
   "source": [
    "ones = np.ones((X_train.shape[0], 1))"
   ]
  },
  {
   "cell_type": "code",
   "execution_count": 20,
   "id": "dcd42dd9",
   "metadata": {},
   "outputs": [
    {
     "data": {
      "text/plain": [
       "(651264, 1)"
      ]
     },
     "execution_count": 20,
     "metadata": {},
     "output_type": "execute_result"
    }
   ],
   "source": [
    "ones.shape"
   ]
  },
  {
   "cell_type": "code",
   "execution_count": 21,
   "id": "8bae8cec",
   "metadata": {},
   "outputs": [],
   "source": [
    "X_train = np.hstack((ones,X_train))\n"
   ]
  },
  {
   "cell_type": "code",
   "execution_count": 22,
   "id": "c5582332",
   "metadata": {},
   "outputs": [
    {
     "data": {
      "text/plain": [
       "array([[ 1.        ,  0.77703933,  0.77859028,  0.79848187, -0.26023174],\n",
       "       [ 1.        ,  0.8011072 ,  0.74676096,  0.78912832, -0.24240015],\n",
       "       [ 1.        ,  0.68329414,  0.67947605,  0.71271885, -0.23414864],\n",
       "       ...,\n",
       "       [ 1.        , -0.26186967, -0.26103498, -0.26598052, -0.3809391 ],\n",
       "       [ 1.        ,  0.18066065,  0.17947277,  0.17521808, -0.22058287],\n",
       "       [ 1.        , -0.13607832, -0.13788084, -0.11526954,  0.32591366]])"
      ]
     },
     "execution_count": 22,
     "metadata": {},
     "output_type": "execute_result"
    }
   ],
   "source": [
    "X_train"
   ]
  },
  {
   "cell_type": "code",
   "execution_count": 23,
   "id": "2d994a55",
   "metadata": {},
   "outputs": [],
   "source": [
    "def hypothesis(X,theta):\n",
    "    y=0\n",
    "    for i in range (X.shape[0]):    \n",
    "        y += theta[i]*X[i]\n",
    "    return y"
   ]
  },
  {
   "cell_type": "code",
   "execution_count": 24,
   "id": "b133c27d",
   "metadata": {},
   "outputs": [],
   "source": [
    "def cost(X,Y, theta):\n",
    "    error = 0\n",
    "    for i in range(X.shape[0]):\n",
    "        y_p = hypothesis(X[i], theta)\n",
    "        \n",
    "        error += (y_p - Y[i])**2\n",
    "        \n",
    "    return error/X.shape[0] "
   ]
  },
  {
   "cell_type": "code",
   "execution_count": 25,
   "id": "53cff0c2",
   "metadata": {},
   "outputs": [],
   "source": [
    "def gradient(X, Y, theta):           \n",
    "    grad = np.zeros((X.shape[1], ))\n",
    "    \n",
    "    for j in range(X.shape[1]):  \n",
    "    \n",
    "        for i in range(X.shape[0]):   \n",
    "        \n",
    "            y_p = hypothesis(X[i], theta)\n",
    "        \n",
    "            \n",
    "            grad[j] += (y_p - Y[i])*X[i,j]\n",
    "        \n",
    "    return grad/X.shape[0]"
   ]
  },
  {
   "cell_type": "code",
   "execution_count": 26,
   "id": "d0ebafe1",
   "metadata": {},
   "outputs": [],
   "source": [
    "def gradient_descent(X,Y):\n",
    "    theta = np.zeros((X.shape[1],))\n",
    "    \n",
    "    max_epochs = 100 \n",
    "    epoch_loss= []\n",
    "    lr= 0.3  \n",
    "    \n",
    "    \n",
    "    for i in range(max_epochs):\n",
    "        grad= gradient(X,Y,theta)\n",
    "        \n",
    "        loss = cost(X,Y,theta)\n",
    "        epoch_loss.append(loss)\n",
    "        \n",
    "        \n",
    "        \n",
    "        for j in range (X.shape[1]):\n",
    "            theta[j] = theta[j]- lr*grad[j]\n",
    "    \n",
    "    return theta, epoch_loss"
   ]
  },
  {
   "cell_type": "code",
   "execution_count": null,
   "id": "5a6e7b22",
   "metadata": {},
   "outputs": [],
   "source": [
    "theta,cost_list= gradient_descent(X_train,Y_train)"
   ]
  },
  {
   "cell_type": "code",
   "execution_count": null,
   "id": "6b3ebb33",
   "metadata": {},
   "outputs": [],
   "source": [
    "cost_list"
   ]
  },
  {
   "cell_type": "code",
   "execution_count": null,
   "id": "171b77ad",
   "metadata": {},
   "outputs": [],
   "source": [
    "plt.plot(cost_list)"
   ]
  },
  {
   "cell_type": "code",
   "execution_count": null,
   "id": "78e26e0d",
   "metadata": {},
   "outputs": [],
   "source": []
  }
 ],
 "metadata": {
  "kernelspec": {
   "display_name": "Python 3 (ipykernel)",
   "language": "python",
   "name": "python3"
  },
  "language_info": {
   "codemirror_mode": {
    "name": "ipython",
    "version": 3
   },
   "file_extension": ".py",
   "mimetype": "text/x-python",
   "name": "python",
   "nbconvert_exporter": "python",
   "pygments_lexer": "ipython3",
   "version": "3.11.7"
  }
 },
 "nbformat": 4,
 "nbformat_minor": 5
}
